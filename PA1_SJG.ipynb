{
 "cells": [
  {
   "cell_type": "markdown",
   "id": "21e48392-6058-4b59-850b-5ab2c2babffc",
   "metadata": {},
   "source": [
    "# Programming Assignment 1\n",
    "---\n",
    "**Author:** Savannah Gripshover\n",
    "**Version:** 1.0  \n",
    "**Semester:** Spring 2024 \n",
    "\n",
    "This *notebook* contains my solution(s) to **Programming Assignment 1**"
   ]
  },
  {
   "cell_type": "markdown",
   "id": "2ba04492-b88f-4391-a625-c53ee6169cc9",
   "metadata": {},
   "source": [
    "### Problem 1 - Manipulating Numbers"
   ]
  },
  {
   "cell_type": "code",
   "execution_count": 1,
   "id": "c4d5922f-0e06-4d46-b9f7-392ae3c7644d",
   "metadata": {
    "tags": []
   },
   "outputs": [],
   "source": [
    "prompt = \"Enter a floating point number\""
   ]
  },
  {
   "cell_type": "code",
   "execution_count": 3,
   "id": "13f83853-b499-43ae-bc96-d896c9f35218",
   "metadata": {
    "tags": []
   },
   "outputs": [
    {
     "name": "stdin",
     "output_type": "stream",
     "text": [
      "Enter a floating point number 44.3\n"
     ]
    }
   ],
   "source": [
    "fpn = input(prompt)"
   ]
  },
  {
   "cell_type": "code",
   "execution_count": 36,
   "id": "6a408b90-c8a7-45c8-ab53-d231ce922ab6",
   "metadata": {
    "tags": []
   },
   "outputs": [
    {
     "name": "stdin",
     "output_type": "stream",
     "text": [
      "Enter an integer 16\n"
     ]
    }
   ],
   "source": [
    "integer = input(\"Enter an integer\")"
   ]
  },
  {
   "cell_type": "code",
   "execution_count": 34,
   "id": "5a0a61fb-c69d-4de9-be54-8dc87054b322",
   "metadata": {
    "tags": []
   },
   "outputs": [],
   "source": [
    "result = float(fpn) + int(integer)"
   ]
  },
  {
   "cell_type": "code",
   "execution_count": 35,
   "id": "82e193bf-a105-45f5-91e1-91606c85556e",
   "metadata": {
    "tags": []
   },
   "outputs": [
    {
     "name": "stdout",
     "output_type": "stream",
     "text": [
      "60.3\n"
     ]
    }
   ],
   "source": [
    "print(result)"
   ]
  },
  {
   "cell_type": "code",
   "execution_count": 38,
   "id": "bd104a42-6334-4b02-a8b1-519ec2c501f8",
   "metadata": {
    "tags": []
   },
   "outputs": [],
   "source": [
    "result = float(fpn) - int(integer)"
   ]
  },
  {
   "cell_type": "code",
   "execution_count": 32,
   "id": "a176eca5-3625-4280-9a1c-46da376bf8a4",
   "metadata": {
    "tags": []
   },
   "outputs": [
    {
     "name": "stdout",
     "output_type": "stream",
     "text": [
      "The difference is  28.300.\n"
     ]
    }
   ],
   "source": [
    "print(f\"The difference is {result: .3f}.\")"
   ]
  },
  {
   "cell_type": "code",
   "execution_count": 26,
   "id": "601209c2-8129-4156-b0fd-420d8d07bcd8",
   "metadata": {
    "tags": []
   },
   "outputs": [],
   "source": [
    "result = float(fpn) * int(integer)"
   ]
  },
  {
   "cell_type": "code",
   "execution_count": 27,
   "id": "d6a148e9-8405-46a1-89a6-83711e313aff",
   "metadata": {
    "tags": []
   },
   "outputs": [
    {
     "name": "stdout",
     "output_type": "stream",
     "text": [
      "The product is  708.800.\n"
     ]
    }
   ],
   "source": [
    "print(f\"The product is {result: .3f}.\")"
   ]
  },
  {
   "cell_type": "code",
   "execution_count": 28,
   "id": "86ea380a-8e51-4217-9a53-ad4560b1f20f",
   "metadata": {
    "tags": []
   },
   "outputs": [],
   "source": [
    "result = float(fpn) / int(integer)"
   ]
  },
  {
   "cell_type": "code",
   "execution_count": 29,
   "id": "c8d0a99e-8440-4c80-896d-1197ee079719",
   "metadata": {
    "tags": []
   },
   "outputs": [
    {
     "name": "stdout",
     "output_type": "stream",
     "text": [
      "The quotient is  2.769.\n"
     ]
    }
   ],
   "source": [
    "print(f\"The quotient is {result: .3f}.\")"
   ]
  },
  {
   "cell_type": "code",
   "execution_count": 39,
   "id": "9d6ea8aa-8e18-4a05-b10f-330fdce60210",
   "metadata": {
    "tags": []
   },
   "outputs": [
    {
     "data": {
      "text/plain": [
       "float"
      ]
     },
     "execution_count": 39,
     "metadata": {},
     "output_type": "execute_result"
    }
   ],
   "source": [
    "type(result)"
   ]
  },
  {
   "cell_type": "markdown",
   "id": "b64a800f-0f22-4ccb-9fb3-8477fba5ff54",
   "metadata": {},
   "source": [
    "### Problem 2 - Calculating Target Heartrate"
   ]
  },
  {
   "cell_type": "code",
   "execution_count": 40,
   "id": "b7359f5a-2731-4399-be0d-c214bdbdf465",
   "metadata": {
    "tags": []
   },
   "outputs": [],
   "source": [
    "prompt = \"Enter your age\""
   ]
  },
  {
   "cell_type": "code",
   "execution_count": 41,
   "id": "ccde1e70-5c03-4c56-9ab6-649c3edf6ce0",
   "metadata": {
    "tags": []
   },
   "outputs": [
    {
     "name": "stdin",
     "output_type": "stream",
     "text": [
      "Enter your age 20\n"
     ]
    }
   ],
   "source": [
    "age = input(prompt)"
   ]
  },
  {
   "cell_type": "code",
   "execution_count": 46,
   "id": "e355c89a-74da-4ca9-9c32-cc0a8f77eb68",
   "metadata": {
    "tags": []
   },
   "outputs": [],
   "source": [
    "mhr = 220 - int(age)"
   ]
  },
  {
   "cell_type": "code",
   "execution_count": 47,
   "id": "e040ddb2-b7a7-4105-ba6e-14163c9ba72e",
   "metadata": {
    "tags": []
   },
   "outputs": [
    {
     "name": "stdout",
     "output_type": "stream",
     "text": [
      "200\n"
     ]
    }
   ],
   "source": [
    "print(mhr)"
   ]
  },
  {
   "cell_type": "code",
   "execution_count": 54,
   "id": "d9d67139-7475-452e-8863-eb062c1d46c5",
   "metadata": {
    "tags": []
   },
   "outputs": [],
   "source": [
    "uhrl = (mhr) * .85"
   ]
  },
  {
   "cell_type": "code",
   "execution_count": 55,
   "id": "2003d563-f079-4cd7-84af-dee680c5afd4",
   "metadata": {
    "tags": []
   },
   "outputs": [
    {
     "name": "stdout",
     "output_type": "stream",
     "text": [
      "170.0\n"
     ]
    }
   ],
   "source": [
    "print(uhrl)"
   ]
  },
  {
   "cell_type": "code",
   "execution_count": 50,
   "id": "76f462ab-1b0e-452e-8465-c5d2071279db",
   "metadata": {
    "tags": []
   },
   "outputs": [],
   "source": [
    "lhrl = (mhr) *.50"
   ]
  },
  {
   "cell_type": "code",
   "execution_count": 51,
   "id": "06c55766-547f-4945-bb90-01bd71f2891a",
   "metadata": {
    "tags": []
   },
   "outputs": [
    {
     "name": "stdout",
     "output_type": "stream",
     "text": [
      "100.0\n"
     ]
    }
   ],
   "source": [
    "print(lhrl)"
   ]
  },
  {
   "cell_type": "code",
   "execution_count": 61,
   "id": "8e08389a-2421-49ef-8c03-f535fbf3f2b3",
   "metadata": {
    "tags": []
   },
   "outputs": [
    {
     "name": "stdout",
     "output_type": "stream",
     "text": [
      "The maximum heart rate is  200\n"
     ]
    }
   ],
   "source": [
    "print(f\"The maximum heart rate is {mhr: .0f}\")"
   ]
  },
  {
   "cell_type": "code",
   "execution_count": 62,
   "id": "7db65e5f-3c1a-4bc1-b096-c4107ee8c6f5",
   "metadata": {
    "tags": []
   },
   "outputs": [
    {
     "name": "stdout",
     "output_type": "stream",
     "text": [
      "The upper heart rate limit is  170\n"
     ]
    }
   ],
   "source": [
    "print(f\"The upper heart rate limit is {uhrl: .0f}\")"
   ]
  },
  {
   "cell_type": "code",
   "execution_count": 63,
   "id": "467ef19d-fb93-41a6-8b89-369a15f1cb7c",
   "metadata": {
    "tags": []
   },
   "outputs": [
    {
     "name": "stdout",
     "output_type": "stream",
     "text": [
      "The lower heart rate limit is  100\n"
     ]
    }
   ],
   "source": [
    "print(f\"The lower heart rate limit is {lhrl: .0f}\")"
   ]
  },
  {
   "cell_type": "code",
   "execution_count": null,
   "id": "fcee65e9-35e4-45e3-b114-99a1c9221a53",
   "metadata": {},
   "outputs": [],
   "source": []
  }
 ],
 "metadata": {
  "kernelspec": {
   "display_name": "Python 3 (ipykernel)",
   "language": "python",
   "name": "python3"
  },
  "language_info": {
   "codemirror_mode": {
    "name": "ipython",
    "version": 3
   },
   "file_extension": ".py",
   "mimetype": "text/x-python",
   "name": "python",
   "nbconvert_exporter": "python",
   "pygments_lexer": "ipython3",
   "version": "3.11.5"
  }
 },
 "nbformat": 4,
 "nbformat_minor": 5
}
